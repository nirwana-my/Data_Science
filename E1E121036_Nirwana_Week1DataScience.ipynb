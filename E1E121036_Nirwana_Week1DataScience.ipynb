{
 "cells": [
  {
   "cell_type": "markdown",
   "id": "3f4b663c",
   "metadata": {},
   "source": [
    "# E1E121036_Nirwana\n",
    "# Week 1 Review Exercises\n"
   ]
  },
  {
   "cell_type": "markdown",
   "id": "ada58c46",
   "metadata": {},
   "source": [
    "Q1. Data Types\n",
    "\n",
    "What is the data type of the variable `pop`?"
   ]
  },
  {
   "cell_type": "code",
   "execution_count": 40,
   "id": "563c66fd",
   "metadata": {},
   "outputs": [],
   "source": [
    "pop = 5.8\n"
   ]
  },
  {
   "cell_type": "code",
   "execution_count": 19,
   "id": "caf77385",
   "metadata": {},
   "outputs": [
    {
     "data": {
      "text/plain": [
       "float"
      ]
     },
     "execution_count": 19,
     "metadata": {},
     "output_type": "execute_result"
    }
   ],
   "source": [
    "# use a suitable function to check your answer\n",
    "type(pop)"
   ]
  },
  {
   "cell_type": "markdown",
   "id": "b19b8600",
   "metadata": {},
   "source": [
    "Q2. Which of the following is a valid variable name of of population below 15 years old?\n"
   ]
  },
  {
   "cell_type": "code",
   "execution_count": 43,
   "id": "fa3e5e24",
   "metadata": {
    "scrolled": true
   },
   "outputs": [],
   "source": [
    "# which line won't give an error? Comment out the ones that do!\n",
    "15_years_and_below = 12.33 \n",
    "%_pop_15_below = 12.33\n",
    "_15&below_pop = 12.33\n",
    "_15_below_pop = 12.33"
   ]
  },
  {
   "cell_type": "code",
   "execution_count": 42,
   "id": "67172876",
   "metadata": {},
   "outputs": [],
   "source": [
    "_15_below_pop = 12.33\n",
    "# line dengan variabel yang valid adalah _15_below_pop\n",
    "# nama variabel harus dimulai dengan huruf atau karakter underscore (_)\n",
    "# nama variabel tidak boleh merupakan kata kunci (cth. True, False, and, or, not)"
   ]
  },
  {
   "cell_type": "markdown",
   "id": "6227288b",
   "metadata": {},
   "source": [
    "Q3. What will be stored in `result`?"
   ]
  },
  {
   "cell_type": "code",
   "execution_count": 22,
   "id": "5e4cfdfd",
   "metadata": {},
   "outputs": [
    {
     "name": "stdout",
     "output_type": "stream",
     "text": [
      "17\n"
     ]
    }
   ],
   "source": [
    "result = 3 + 4 ** 2 - (5 // 2)\n",
    "print(result)"
   ]
  },
  {
   "cell_type": "markdown",
   "id": "4b2b1ba6",
   "metadata": {},
   "source": [
    "Q4. If Singapore has an estimated population of 5.85 million and the land area is 700 square kilometers, what is the population density (number of people per KM)? \n"
   ]
  },
  {
   "cell_type": "code",
   "execution_count": 23,
   "id": "3b3dd8d9",
   "metadata": {},
   "outputs": [
    {
     "name": "stdout",
     "output_type": "stream",
     "text": [
      "0.008357142857142856\n"
     ]
    }
   ],
   "source": [
    "# Estimated total Population of Singapore, in millions\n",
    "total_pop_millions = 5.85\n",
    "\n",
    "# Total land area, in KM\n",
    "land_area = 700\n",
    "\n",
    "# How many people are there per KM?\n",
    "pop_density = total_pop_millions / land_area\n",
    "print(pop_density)\n"
   ]
  },
  {
   "cell_type": "markdown",
   "id": "8a8b4f48",
   "metadata": {},
   "source": [
    "Q5. Write a function called `pop_density()` that receives two arguments:\n",
    "1. the population, recorded in millions, `population_mil`\n",
    "2. the land area, in square kilometres, `land_area_sqkm`\n",
    "\n",
    "The function should calculate and return the population density. \n"
   ]
  },
  {
   "cell_type": "code",
   "execution_count": 24,
   "id": "cec3ad43",
   "metadata": {},
   "outputs": [],
   "source": [
    "# Write the function here\n",
    "def pop_density(population_mil, land_area_sqkm):\n",
    "    pop_density = population_mil * 1000000 / land_area_sqkm\n",
    "    return pop_density"
   ]
  },
  {
   "cell_type": "markdown",
   "id": "9c7711c8",
   "metadata": {},
   "source": [
    "Q6. Call the function you have written to calculate and display the population density of Hong Kong: 7.50 million people in a land area of 1050 km squared \n"
   ]
  },
  {
   "cell_type": "code",
   "execution_count": 25,
   "id": "a2b27625",
   "metadata": {},
   "outputs": [
    {
     "name": "stdout",
     "output_type": "stream",
     "text": [
      "The population density of Hong Kong is 7142.857142857143 people per square kilometer.\n"
     ]
    }
   ],
   "source": [
    "# Call the function \n",
    "def pop_density(population_mil, land_area_sqkm):\n",
    "    pop_density = population_mil * 1000000 / land_area_sqkm\n",
    "    return pop_density\n",
    "hk_population_mil = 7.50\n",
    "hk_land_area_sqkm = 1050\n",
    "hk_population_density = pop_density(hk_population_mil, hk_land_area_sqkm)\n",
    "print(\"The population density of Hong Kong is\", hk_population_density, \"people per square kilometer.\")\n"
   ]
  },
  {
   "cell_type": "markdown",
   "id": "43cbdd91",
   "metadata": {},
   "source": [
    "Q7. Using the `pop_density()` function, calculate the population density of Singapore and then use comparison operators to compare the population densities of Singapore and Hong Kong.\n",
    "\n",
    "Singapore's population: 5.85 million\n",
    "Singapore's land area: 700 sq km\n",
    "\n",
    "(Data From [Worldometers](http://worldometers.info))\n"
   ]
  },
  {
   "cell_type": "code",
   "execution_count": 26,
   "id": "626d47c8",
   "metadata": {},
   "outputs": [
    {
     "name": "stdout",
     "output_type": "stream",
     "text": [
      "Singapore has a higher population density than Hong Kong.\n"
     ]
    }
   ],
   "source": [
    "# use the function\n",
    "def pop_density(population_mil, land_area_sqkm):\n",
    "    pop_density = population_mil * 1000000 / land_area_sqkm\n",
    "    return pop_density\n",
    "sg_population_mil = 5.85\n",
    "sg_land_area_sqkm = 700\n",
    "sg_population_density = pop_density(sg_population_mil, sg_land_area_sqkm)\n",
    "hk_population_mil = 7.50\n",
    "hk_land_area_sqkm = 1050\n",
    "# compare hk vs sg population density \n",
    "if sg_population_density > hk_population_density:\n",
    "  print(\"Singapore has a higher population density than Hong Kong.\")\n",
    "elif sg_population_density < hk_population_density:\n",
    "  print(\"Hong Kong has a higher population density than Singapore.\")\n",
    "else:\n",
    "  print(\"Singapore and Hong Kong have the same population density.\")\n"
   ]
  },
  {
   "cell_type": "markdown",
   "id": "cc1768c5",
   "metadata": {},
   "source": [
    "Q8. Let's add another area to compare: Macao's population is 0.65 million in a land area of 30 sq km. Find out whether Singapore's population density is higher than BOTH Hong Kong and Macao."
   ]
  },
  {
   "cell_type": "code",
   "execution_count": 27,
   "id": "55aeec5c",
   "metadata": {},
   "outputs": [
    {
     "name": "stdout",
     "output_type": "stream",
     "text": [
      "The population density of Macao is 21666.666666666668 people per square kilometer.\n",
      "Singapore's population density is NOT higher than both Hong Kong and Macao.\n"
     ]
    }
   ],
   "source": [
    "# Calculate Macao's density (use the function!)\n",
    "def pop_density(population_mil, land_area_sqkm):\n",
    "    pop_density = population_mil * 1000000 / land_area_sqkm\n",
    "    return pop_density\n",
    "macao_population_mil = 0.65\n",
    "macao_land_area_sqkm = 30\n",
    "macao_population_density = pop_density(macao_population_mil, macao_land_area_sqkm)\n",
    "print(\"The population density of Macao is\", macao_population_density, \"people per square kilometer.\")\n",
    "\n",
    "# Singapore's population density is higher than both Hong Kong AND Macao\n",
    "sg_population_mil = 5.85\n",
    "sg_land_area_sqkm = 700\n",
    "sg_population_density = pop_density(sg_population_mil, sg_land_area_sqkm)\n",
    "hk_population_mil = 7.50\n",
    "hk_land_area_sqkm = 1050\n",
    "# compare hk vs sg population density \n",
    "if sg_population_density > hk_population_density and sg_population_density > macao_population_density:\n",
    "  print(\"Singapore's population density is higher than both Hong Kong and Macao.\")\n",
    "else:\n",
    "  print(\"Singapore's population density is NOT higher than both Hong Kong and Macao.\")\n"
   ]
  },
  {
   "cell_type": "markdown",
   "id": "66b284ff",
   "metadata": {},
   "source": [
    "Q9. Write a function called compare_density() that receives two arguments representing the population densities of two areas. The function will compare the two values and print one of the following strings:\n",
    "- “Area 1 has higher density”\n",
    "- “Area 2 has higher density”\n",
    "- “Both areas have the same density”"
   ]
  },
  {
   "cell_type": "code",
   "execution_count": 30,
   "id": "63351d63",
   "metadata": {},
   "outputs": [],
   "source": [
    "# Write the function\n",
    "def compare_density(area1_density, area2_density):  \n",
    "    if area1_density > area2_density:\n",
    "        return \"Area 1 has higher density\"\n",
    "    elif area1_density < area2_density:\n",
    "        return \"Area 2 has higher density\"\n",
    "    else:\n",
    "        return \"Both areas have the same density\""
   ]
  },
  {
   "cell_type": "markdown",
   "id": "0e7c4ab1",
   "metadata": {},
   "source": [
    "Then we can test the function by passing the values of `sg_density` and `hk_density` as arguments."
   ]
  },
  {
   "cell_type": "code",
   "execution_count": 33,
   "id": "6f1a4362",
   "metadata": {},
   "outputs": [
    {
     "name": "stdout",
     "output_type": "stream",
     "text": [
      "Area 1 has higher density\n"
     ]
    }
   ],
   "source": [
    "sg_density = 8357.0\n",
    "hk_density = 7142.86\n",
    "density_comparison = compare_density(sg_density, hk_density)\n",
    "print(density_comparison)"
   ]
  },
  {
   "cell_type": "markdown",
   "id": "49fae04b",
   "metadata": {},
   "source": [
    "Q10. What will be the result of the following loop?\n",
    "\n",
    "```\n",
    "for year in range(2022, 2031, 2):\n",
    "    print(year)\n",
    "```"
   ]
  },
  {
   "cell_type": "code",
   "execution_count": 34,
   "id": "48ab8047",
   "metadata": {},
   "outputs": [
    {
     "name": "stdout",
     "output_type": "stream",
     "text": [
      "2022\n",
      "2024\n",
      "2026\n",
      "2028\n",
      "2030\n"
     ]
    }
   ],
   "source": [
    "# Type in the code for the loop given above and execute to check your answer\n",
    "for year in range(2022, 2031, 2):\n",
    "    print(year)"
   ]
  },
  {
   "cell_type": "markdown",
   "id": "359280f1",
   "metadata": {},
   "source": [
    "Q.11 Write a function projected_population() that receives three arguments:\n",
    "- Current population, in millions\n",
    "- Growth rate\n",
    "- Current year\n"
   ]
  },
  {
   "cell_type": "markdown",
   "id": "43b00110",
   "metadata": {},
   "source": [
    "The function should:\n",
    "- set the projected population to the current population\n",
    "- set the projected year to the current year\n",
    "- calculate the difference between the projected population and current population\n",
    "\n",
    "while the difference is between -1 and 1:\n",
    "1. print the projected year and the projected population\n",
    "2. calculate the projected population = projected population + projected population * growth rate / 100\n",
    "3. update the projected year \n",
    "4. recalculate the difference between the projected propulation and current population"
   ]
  },
  {
   "cell_type": "code",
   "execution_count": 35,
   "id": "8e62f54e",
   "metadata": {},
   "outputs": [],
   "source": [
    "def projected_population(current_pop, growth_rate, current_year):\n",
    "    # complete the function according to the guide\n",
    "    projected_population = current_pop\n",
    "    projected_year = current_year\n",
    "    projected_population_list = []\n",
    "\n",
    "    while abs(projected_population - current_pop) > 1:\n",
    "        projected_population += projected_population * growth_rate / 100\n",
    "        projected_year += 1\n",
    "        projected_population_list.append((projected_year, projected_population))\n",
    "\n",
    "    return projected_population_list\n"
   ]
  },
  {
   "cell_type": "code",
   "execution_count": 36,
   "id": "35c3f670",
   "metadata": {
    "scrolled": true
   },
   "outputs": [
    {
     "name": "stdout",
     "output_type": "stream",
     "text": [
      "Thailand's population growth\n"
     ]
    }
   ],
   "source": [
    "# testing with Thailand\n",
    "print(\"Thailand's population growth\")\n",
    "projected_population_list = projected_population(current_pop=69.8, growth_rate=0.3, current_year=2020)\n",
    "\n",
    "for year, population in projected_population_list:\n",
    "  print(f\"{year}: {population:.2f} million\")\n"
   ]
  },
  {
   "cell_type": "markdown",
   "id": "09df059d",
   "metadata": {},
   "source": [
    "Q.12 Write a function called `string_info()` which takes in a string argument and returns four values:\n",
    "- the first 3 characters\n",
    "- last 3 characters\n",
    "- the number of characters in the string\n",
    "- the string with each word capitalized"
   ]
  },
  {
   "cell_type": "code",
   "execution_count": 37,
   "id": "254d3e0c",
   "metadata": {},
   "outputs": [],
   "source": [
    "def string_info(word): \n",
    "    # complete the function\n",
    "    first_3 = word[:3]\n",
    "    last_3 = word[-3:]\n",
    "    num = len(word)\n",
    "    title = word.title()\n",
    "\n",
    "    return first_3, last_3, num, title"
   ]
  },
  {
   "cell_type": "code",
   "execution_count": 38,
   "id": "5858639b",
   "metadata": {},
   "outputs": [
    {
     "name": "stdout",
     "output_type": "stream",
     "text": [
      "dat nce 12 Data Science\n"
     ]
    }
   ],
   "source": [
    "#calling the function\n",
    "start, end, num, title = string_info(\"data science\")\n",
    "print(start, end, num, title)"
   ]
  },
  {
   "cell_type": "code",
   "execution_count": 39,
   "id": "f286a42c",
   "metadata": {},
   "outputs": [
    {
     "name": "stdout",
     "output_type": "stream",
     "text": [
      "('dat', 'nce', 12, 'Data Science')\n"
     ]
    }
   ],
   "source": [
    "# print what's returned\n",
    "print(string_info(\"data science\"))"
   ]
  },
  {
   "cell_type": "markdown",
   "id": "f33e1677",
   "metadata": {},
   "source": [
    "# Congratulations! \n",
    "\n",
    "You have reached the end of this notebook! Hope you have been able to practice and review the fundamental concepts in Python coding and we will do more next week!"
   ]
  }
 ],
 "metadata": {
  "kernelspec": {
   "display_name": "Python 3 (ipykernel)",
   "language": "python",
   "name": "python3"
  },
  "language_info": {
   "codemirror_mode": {
    "name": "ipython",
    "version": 3
   },
   "file_extension": ".py",
   "mimetype": "text/x-python",
   "name": "python",
   "nbconvert_exporter": "python",
   "pygments_lexer": "ipython3",
   "version": "3.11.4"
  }
 },
 "nbformat": 4,
 "nbformat_minor": 5
}
